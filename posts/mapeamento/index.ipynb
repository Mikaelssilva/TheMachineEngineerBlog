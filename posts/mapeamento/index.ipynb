{
 "cells": [
  {
   "cell_type": "raw",
   "id": "5c5f24f3-0f58-4471-a816-6fc17e7a2c42",
   "metadata": {
    "vscode": {
     "languageId": "raw"
    }
   },
   "source": [
    "---\n",
    "title: \"Mapeamento de Dados\"\n",
    "author: \"Mikael Silva\"\n",
    "date: 2025-07-27\n",
    "categories: [machine learning, data science]\n",
    "description: \"O que é mapeamento? Vem comigo entender!\"\n",
    "---"
   ]
  },
  {
   "cell_type": "markdown",
   "id": "6c9bc43f-5702-4515-8144-9b606c8656ac",
   "metadata": {},
   "source": [
    "## O que é mapeamento?\n",
    "> O mapeamento é um processo fundamental na área de Inteligência Artificial (IA) e Machine Learning (ML), que envolve a identificação e a representação de dados em um formato que pode ser facilmente analisado e interpretado por algoritmos.\n",
    "\n",
    "Obs: Os dados usados nesse projeto são fictícios"
   ]
  },
  {
   "cell_type": "markdown",
   "id": "b983852b",
   "metadata": {
    "vscode": {
     "languageId": "raw"
    }
   },
   "source": [
    "![](mapeamento.png)"
   ]
  },
  {
   "cell_type": "code",
   "execution_count": 3,
   "id": "d16c051f-4ee4-49fc-851e-2def05fee9de",
   "metadata": {},
   "outputs": [],
   "source": [
    "import pandas as pd\n",
    "import numpy as np"
   ]
  },
  {
   "cell_type": "code",
   "execution_count": 2,
   "id": "c1b64cf1-7cea-4839-886a-c49f64714e79",
   "metadata": {},
   "outputs": [
    {
     "data": {
      "text/html": [
       "<div>\n",
       "<style scoped>\n",
       "    .dataframe tbody tr th:only-of-type {\n",
       "        vertical-align: middle;\n",
       "    }\n",
       "\n",
       "    .dataframe tbody tr th {\n",
       "        vertical-align: top;\n",
       "    }\n",
       "\n",
       "    .dataframe thead th {\n",
       "        text-align: right;\n",
       "    }\n",
       "</style>\n",
       "<table border=\"1\" class=\"dataframe\">\n",
       "  <thead>\n",
       "    <tr style=\"text-align: right;\">\n",
       "      <th></th>\n",
       "      <th>age</th>\n",
       "      <th>sexo</th>\n",
       "      <th>isolamento</th>\n",
       "      <th>ansiedade</th>\n",
       "    </tr>\n",
       "  </thead>\n",
       "  <tbody>\n",
       "    <tr>\n",
       "      <th>0</th>\n",
       "      <td>21</td>\n",
       "      <td>não-binário</td>\n",
       "      <td>Nunca</td>\n",
       "      <td>Leve</td>\n",
       "    </tr>\n",
       "    <tr>\n",
       "      <th>1</th>\n",
       "      <td>19</td>\n",
       "      <td>masculino</td>\n",
       "      <td>Às vezes</td>\n",
       "      <td>Moderada</td>\n",
       "    </tr>\n",
       "    <tr>\n",
       "      <th>2</th>\n",
       "      <td>16</td>\n",
       "      <td>feminino</td>\n",
       "      <td>Frequentemente</td>\n",
       "      <td>Grave</td>\n",
       "    </tr>\n",
       "    <tr>\n",
       "      <th>3</th>\n",
       "      <td>42</td>\n",
       "      <td>masculino</td>\n",
       "      <td>Sempre</td>\n",
       "      <td>Moderada</td>\n",
       "    </tr>\n",
       "  </tbody>\n",
       "</table>\n",
       "</div>"
      ],
      "text/plain": [
       "   age         sexo      isolamento ansiedade\n",
       "0   21  não-binário           Nunca      Leve\n",
       "1   19    masculino        Às vezes  Moderada\n",
       "2   16     feminino  Frequentemente     Grave\n",
       "3   42    masculino          Sempre  Moderada"
      ]
     },
     "execution_count": 2,
     "metadata": {},
     "output_type": "execute_result"
    }
   ],
   "source": [
    "# Dados antes do mapeamento\n",
    "\n",
    "data = {\n",
    "       'age': [21, 19, 16, 42],\n",
    "        'sexo': ['não-binário', 'masculino', 'feminino', 'masculino'],\n",
    "        'isolamento': ['Nunca', 'Às vezes', 'Frequentemente', 'Sempre'],\n",
    "        'ansiedade': ['Leve', 'Moderada', 'Grave', 'Moderada']\n",
    "        }\n",
    "\n",
    "df = pd.DataFrame(data)\n",
    "df"
   ]
  },
  {
   "cell_type": "code",
   "execution_count": 3,
   "id": "91e5f8cd-1b68-4161-97f6-a5389a0727cb",
   "metadata": {},
   "outputs": [],
   "source": [
    "map_isolamento = {'Nunca': 0, 'Às vezes': 1, 'Frequentemente': 2, 'Sempre': 3}"
   ]
  },
  {
   "cell_type": "code",
   "execution_count": 4,
   "id": "7748ed58-be56-4761-b49d-d0dae59d90d3",
   "metadata": {},
   "outputs": [],
   "source": [
    "# Novo dataframe com mapeamento\n",
    "df['isolamento'] = df['isolamento'].map(map_isolamento)"
   ]
  },
  {
   "cell_type": "code",
   "execution_count": 5,
   "id": "1c440a3f-1706-46a3-8df7-86674b415ba6",
   "metadata": {},
   "outputs": [
    {
     "data": {
      "text/html": [
       "<div>\n",
       "<style scoped>\n",
       "    .dataframe tbody tr th:only-of-type {\n",
       "        vertical-align: middle;\n",
       "    }\n",
       "\n",
       "    .dataframe tbody tr th {\n",
       "        vertical-align: top;\n",
       "    }\n",
       "\n",
       "    .dataframe thead th {\n",
       "        text-align: right;\n",
       "    }\n",
       "</style>\n",
       "<table border=\"1\" class=\"dataframe\">\n",
       "  <thead>\n",
       "    <tr style=\"text-align: right;\">\n",
       "      <th></th>\n",
       "      <th>age</th>\n",
       "      <th>sexo</th>\n",
       "      <th>isolamento</th>\n",
       "      <th>ansiedade</th>\n",
       "    </tr>\n",
       "  </thead>\n",
       "  <tbody>\n",
       "    <tr>\n",
       "      <th>0</th>\n",
       "      <td>21</td>\n",
       "      <td>não-binário</td>\n",
       "      <td>0</td>\n",
       "      <td>Leve</td>\n",
       "    </tr>\n",
       "    <tr>\n",
       "      <th>1</th>\n",
       "      <td>19</td>\n",
       "      <td>masculino</td>\n",
       "      <td>1</td>\n",
       "      <td>Moderada</td>\n",
       "    </tr>\n",
       "    <tr>\n",
       "      <th>2</th>\n",
       "      <td>16</td>\n",
       "      <td>feminino</td>\n",
       "      <td>2</td>\n",
       "      <td>Grave</td>\n",
       "    </tr>\n",
       "    <tr>\n",
       "      <th>3</th>\n",
       "      <td>42</td>\n",
       "      <td>masculino</td>\n",
       "      <td>3</td>\n",
       "      <td>Moderada</td>\n",
       "    </tr>\n",
       "  </tbody>\n",
       "</table>\n",
       "</div>"
      ],
      "text/plain": [
       "   age         sexo  isolamento ansiedade\n",
       "0   21  não-binário           0      Leve\n",
       "1   19    masculino           1  Moderada\n",
       "2   16     feminino           2     Grave\n",
       "3   42    masculino           3  Moderada"
      ]
     },
     "execution_count": 5,
     "metadata": {},
     "output_type": "execute_result"
    }
   ],
   "source": [
    "df"
   ]
  },
  {
   "cell_type": "markdown",
   "id": "64146164-fcea-4dae-a28c-5f5beca02e17",
   "metadata": {},
   "source": [
    "## One hot econding com pandas"
   ]
  },
  {
   "cell_type": "code",
   "execution_count": 6,
   "id": "c075dc0f-c4c0-4173-a9df-1c7e2f6f1c56",
   "metadata": {},
   "outputs": [
    {
     "data": {
      "text/html": [
       "<div>\n",
       "<style scoped>\n",
       "    .dataframe tbody tr th:only-of-type {\n",
       "        vertical-align: middle;\n",
       "    }\n",
       "\n",
       "    .dataframe tbody tr th {\n",
       "        vertical-align: top;\n",
       "    }\n",
       "\n",
       "    .dataframe thead th {\n",
       "        text-align: right;\n",
       "    }\n",
       "</style>\n",
       "<table border=\"1\" class=\"dataframe\">\n",
       "  <thead>\n",
       "    <tr style=\"text-align: right;\">\n",
       "      <th></th>\n",
       "      <th>age</th>\n",
       "      <th>isolamento</th>\n",
       "      <th>ansiedade</th>\n",
       "      <th>sexo_feminino</th>\n",
       "      <th>sexo_masculino</th>\n",
       "      <th>sexo_não-binário</th>\n",
       "    </tr>\n",
       "  </thead>\n",
       "  <tbody>\n",
       "    <tr>\n",
       "      <th>0</th>\n",
       "      <td>21</td>\n",
       "      <td>0</td>\n",
       "      <td>Leve</td>\n",
       "      <td>False</td>\n",
       "      <td>False</td>\n",
       "      <td>True</td>\n",
       "    </tr>\n",
       "    <tr>\n",
       "      <th>1</th>\n",
       "      <td>19</td>\n",
       "      <td>1</td>\n",
       "      <td>Moderada</td>\n",
       "      <td>False</td>\n",
       "      <td>True</td>\n",
       "      <td>False</td>\n",
       "    </tr>\n",
       "    <tr>\n",
       "      <th>2</th>\n",
       "      <td>16</td>\n",
       "      <td>2</td>\n",
       "      <td>Grave</td>\n",
       "      <td>True</td>\n",
       "      <td>False</td>\n",
       "      <td>False</td>\n",
       "    </tr>\n",
       "    <tr>\n",
       "      <th>3</th>\n",
       "      <td>42</td>\n",
       "      <td>3</td>\n",
       "      <td>Moderada</td>\n",
       "      <td>False</td>\n",
       "      <td>True</td>\n",
       "      <td>False</td>\n",
       "    </tr>\n",
       "  </tbody>\n",
       "</table>\n",
       "</div>"
      ],
      "text/plain": [
       "   age  isolamento ansiedade  sexo_feminino  sexo_masculino  sexo_não-binário\n",
       "0   21           0      Leve          False           False              True\n",
       "1   19           1  Moderada          False            True             False\n",
       "2   16           2     Grave           True           False             False\n",
       "3   42           3  Moderada          False            True             False"
      ]
     },
     "execution_count": 6,
     "metadata": {},
     "output_type": "execute_result"
    }
   ],
   "source": [
    "df = pd.get_dummies(df, columns=['sexo'])\n",
    "df"
   ]
  },
  {
   "cell_type": "code",
   "execution_count": 7,
   "id": "8dcebde6-c607-490b-9a1e-7d73b47a7cfb",
   "metadata": {},
   "outputs": [
    {
     "data": {
      "text/plain": [
       "age                  int64\n",
       "isolamento           int64\n",
       "ansiedade           object\n",
       "sexo_feminino         bool\n",
       "sexo_masculino        bool\n",
       "sexo_não-binário      bool\n",
       "dtype: object"
      ]
     },
     "execution_count": 7,
     "metadata": {},
     "output_type": "execute_result"
    }
   ],
   "source": [
    "df.dtypes"
   ]
  },
  {
   "cell_type": "code",
   "execution_count": 8,
   "id": "4760586d-f727-44af-8ef0-f321744f0581",
   "metadata": {},
   "outputs": [
    {
     "data": {
      "text/html": [
       "<div>\n",
       "<style scoped>\n",
       "    .dataframe tbody tr th:only-of-type {\n",
       "        vertical-align: middle;\n",
       "    }\n",
       "\n",
       "    .dataframe tbody tr th {\n",
       "        vertical-align: top;\n",
       "    }\n",
       "\n",
       "    .dataframe thead th {\n",
       "        text-align: right;\n",
       "    }\n",
       "</style>\n",
       "<table border=\"1\" class=\"dataframe\">\n",
       "  <thead>\n",
       "    <tr style=\"text-align: right;\">\n",
       "      <th></th>\n",
       "      <th>age</th>\n",
       "      <th>isolamento</th>\n",
       "      <th>ansiedade</th>\n",
       "      <th>sexo_feminino</th>\n",
       "      <th>sexo_masculino</th>\n",
       "      <th>sexo_não-binário</th>\n",
       "    </tr>\n",
       "  </thead>\n",
       "  <tbody>\n",
       "    <tr>\n",
       "      <th>0</th>\n",
       "      <td>21</td>\n",
       "      <td>0</td>\n",
       "      <td>1</td>\n",
       "      <td>False</td>\n",
       "      <td>False</td>\n",
       "      <td>True</td>\n",
       "    </tr>\n",
       "    <tr>\n",
       "      <th>1</th>\n",
       "      <td>19</td>\n",
       "      <td>1</td>\n",
       "      <td>2</td>\n",
       "      <td>False</td>\n",
       "      <td>True</td>\n",
       "      <td>False</td>\n",
       "    </tr>\n",
       "    <tr>\n",
       "      <th>2</th>\n",
       "      <td>16</td>\n",
       "      <td>2</td>\n",
       "      <td>3</td>\n",
       "      <td>True</td>\n",
       "      <td>False</td>\n",
       "      <td>False</td>\n",
       "    </tr>\n",
       "    <tr>\n",
       "      <th>3</th>\n",
       "      <td>42</td>\n",
       "      <td>3</td>\n",
       "      <td>2</td>\n",
       "      <td>False</td>\n",
       "      <td>True</td>\n",
       "      <td>False</td>\n",
       "    </tr>\n",
       "  </tbody>\n",
       "</table>\n",
       "</div>"
      ],
      "text/plain": [
       "   age  isolamento  ansiedade  sexo_feminino  sexo_masculino  sexo_não-binário\n",
       "0   21           0          1          False           False              True\n",
       "1   19           1          2          False            True             False\n",
       "2   16           2          3           True           False             False\n",
       "3   42           3          2          False            True             False"
      ]
     },
     "execution_count": 8,
     "metadata": {},
     "output_type": "execute_result"
    }
   ],
   "source": [
    "# Mapeamento da ansiedade\n",
    "map_ansiedade = {'Leve': 1,\n",
    "                'Moderada': 2,\n",
    "                'Grave': 3}\n",
    "\n",
    "df['ansiedade'] = df['ansiedade'].map(map_ansiedade)\n",
    "df"
   ]
  },
  {
   "cell_type": "code",
   "execution_count": 9,
   "id": "9a98bece-4d16-43c1-a873-38e1c0fa53f9",
   "metadata": {},
   "outputs": [
    {
     "name": "stdout",
     "output_type": "stream",
     "text": [
      "Média de ansiedade: 2.0\n"
     ]
    }
   ],
   "source": [
    "# Média da ansiedade\n",
    "print(f'Média de ansiedade: {df['ansiedade'].mean()}')"
   ]
  },
  {
   "cell_type": "code",
   "execution_count": 10,
   "id": "b6a2aa00-bfd6-4798-a79e-0dbea0edc339",
   "metadata": {},
   "outputs": [
    {
     "data": {
      "text/html": [
       "<div>\n",
       "<style scoped>\n",
       "    .dataframe tbody tr th:only-of-type {\n",
       "        vertical-align: middle;\n",
       "    }\n",
       "\n",
       "    .dataframe tbody tr th {\n",
       "        vertical-align: top;\n",
       "    }\n",
       "\n",
       "    .dataframe thead th {\n",
       "        text-align: right;\n",
       "    }\n",
       "</style>\n",
       "<table border=\"1\" class=\"dataframe\">\n",
       "  <thead>\n",
       "    <tr style=\"text-align: right;\">\n",
       "      <th></th>\n",
       "      <th>age</th>\n",
       "      <th>isolamento</th>\n",
       "      <th>ansiedade</th>\n",
       "      <th>sexo_feminino</th>\n",
       "      <th>sexo_masculino</th>\n",
       "      <th>sexo_não-binário</th>\n",
       "      <th>risco de saúde mental</th>\n",
       "    </tr>\n",
       "  </thead>\n",
       "  <tbody>\n",
       "    <tr>\n",
       "      <th>0</th>\n",
       "      <td>21</td>\n",
       "      <td>0</td>\n",
       "      <td>1</td>\n",
       "      <td>False</td>\n",
       "      <td>False</td>\n",
       "      <td>True</td>\n",
       "      <td>1</td>\n",
       "    </tr>\n",
       "    <tr>\n",
       "      <th>1</th>\n",
       "      <td>19</td>\n",
       "      <td>1</td>\n",
       "      <td>2</td>\n",
       "      <td>False</td>\n",
       "      <td>True</td>\n",
       "      <td>False</td>\n",
       "      <td>3</td>\n",
       "    </tr>\n",
       "    <tr>\n",
       "      <th>2</th>\n",
       "      <td>16</td>\n",
       "      <td>2</td>\n",
       "      <td>3</td>\n",
       "      <td>True</td>\n",
       "      <td>False</td>\n",
       "      <td>False</td>\n",
       "      <td>5</td>\n",
       "    </tr>\n",
       "    <tr>\n",
       "      <th>3</th>\n",
       "      <td>42</td>\n",
       "      <td>3</td>\n",
       "      <td>2</td>\n",
       "      <td>False</td>\n",
       "      <td>True</td>\n",
       "      <td>False</td>\n",
       "      <td>5</td>\n",
       "    </tr>\n",
       "  </tbody>\n",
       "</table>\n",
       "</div>"
      ],
      "text/plain": [
       "   age  isolamento  ansiedade  sexo_feminino  sexo_masculino  \\\n",
       "0   21           0          1          False           False   \n",
       "1   19           1          2          False            True   \n",
       "2   16           2          3           True           False   \n",
       "3   42           3          2          False            True   \n",
       "\n",
       "   sexo_não-binário  risco de saúde mental  \n",
       "0              True                      1  \n",
       "1             False                      3  \n",
       "2             False                      5  \n",
       "3             False                      5  "
      ]
     },
     "execution_count": 10,
     "metadata": {},
     "output_type": "execute_result"
    }
   ],
   "source": [
    "df['risco de saúde mental'] = df['isolamento'] + df['ansiedade']\n",
    "df"
   ]
  },
  {
   "cell_type": "code",
   "execution_count": 11,
   "id": "adf41ff1-9eed-4a0c-8bca-eef2b3bce5b6",
   "metadata": {},
   "outputs": [
    {
     "data": {
      "image/png": "[encoded data removed]",
      "text/plain": [
       "<Figure size 1000x500 with 1 Axes>"
      ]
     },
     "metadata": {},
     "output_type": "display_data"
    }
   ],
   "source": [
    "import matplotlib.pyplot as plt\n",
    "plt.style.use('ggplot')\n",
    "fig, ax = plt.subplots(figsize=(10, 5))\n",
    "\n",
    "# Correlação entre isolamento e ansiedade\n",
    "x = df['isolamento']\n",
    "y = df['ansiedade']\n",
    "\n",
    "ax.set(title='Isolamento x Ansiedade',xlabel='Isolamento', ylabel='Ansiedade')\n",
    "ax.scatter(x, y);"
   ]
  },
  {
   "cell_type": "code",
   "execution_count": 12,
   "id": "21483573-fe38-442b-a945-9455738c0294",
   "metadata": {},
   "outputs": [
    {
     "data": {
      "image/png": "[encoded data removed]",
      "text/plain": [
       "<Figure size 1000x1000 with 2 Axes>"
      ]
     },
     "metadata": {},
     "output_type": "display_data"
    }
   ],
   "source": [
    "fig, (ax0, ax1) = plt.subplots(2, 1, figsize=(10, 10))\n",
    "\n",
    "# Correlação entre isolamento e saúde mental\n",
    "ax0.scatter(df['isolamento'], df['risco de saúde mental'], c='blue')\n",
    "ax0.set(xlabel='Isolamento', ylabel='risco de saúde mental')\n",
    "\n",
    "# Correlação entre ansiedade e saúde mental\n",
    "ax1.scatter(df['ansiedade'], df['risco de saúde mental'], c='blue')\n",
    "ax1.set(xlabel='Ansiedade', ylabel='risco de saúde mental');"
   ]
  },
  {
   "cell_type": "markdown",
   "id": "77155af0-ce74-4793-bc7b-3bd70fb9e47e",
   "metadata": {},
   "source": [
    "## Exemplo dois"
   ]
  },
  {
   "cell_type": "code",
   "execution_count": 13,
   "id": "e340969f-8833-49cc-96fb-20b1256176e6",
   "metadata": {},
   "outputs": [],
   "source": [
    "dados = {\n",
    "    \"idade\": [19, 22, 20, 25, 21, 24, 23, 20, 22, 26],\n",
    "    \"genero\": [\"Mulher\", \"Homem\", \"Homem\", \"Mulher\", \"Não-binário\", \"Homem\", \"Mulher\", \"Prefiro não dizer\", \"Mulher\", \"Outro\"],\n",
    "    \"curso\": [\"Engenharia\", \"Psicologia\", \"Direito\", \"Medicina\", \"Ciência da Computação\", \"Administração\", \"Arquitetura\", \"Física\", \"História\", \"Design\"],\n",
    "    \"periodo\": [1, 3, 5, 7, 2, 10, 6, 4, 8, 9],\n",
    "    \"trabalha_ou_estagia\": [\"Sim\", \"Não\", \"Sim\", \"Sim\", \"Não\", \"Sim\", \"Não\", \"Não\", \"Sim\", \"Sim\"],\n",
    "    \"horas_trabalho\": [20, None, 15, 30, None, 40, None, None, 25, 20],\n",
    "    \"moradia\": [\"Com a família\", \"Sozinho(a)\", \"Com amigos\", \"Moradia estudantil\", \"Com a família\", \"Sozinho(a)\", \"Com a família\", \"Outro\", \"Moradia estudantil\", \"Com amigos\"],\n",
    "    \n",
    "    # Seção 2 - sentimentos (valores de 1 a 5 para facilitar)\n",
    "    \"depressao\": [3, 2, 4, 5, 3, 2, 1, 2, 3, 4],\n",
    "    \"prazer\": [2, 3, 2, 4, 3, 4, 5, 3, 2, 1],\n",
    "    \"ansiedade\": [3, 4, 5, 5, 2, 3, 2, 2, 4, 5],\n",
    "    \"preocupacao\": [3, 3, 4, 5, 2, 3, 1, 2, 3, 5],\n",
    "    \"sono_ruim\": [4, 2, 5, 5, 3, 2, 1, 3, 4, 4],\n",
    "    \"cansaco\": [4, 3, 5, 4, 3, 3, 2, 3, 4, 5],\n",
    "    \"alimentacao_ruim\": [3, 1, 4, 5, 2, 2, 1, 2, 3, 4],\n",
    "    \"autoimagem_negativa\": [4, 2, 5, 4, 3, 3, 1, 2, 3, 4],\n",
    "    \"concentracao_ruim\": [3, 2, 4, 5, 3, 2, 1, 2, 3, 4],\n",
    "    \"agitacao\": [2, 1, 4, 5, 3, 2, 1, 1, 3, 5],\n",
    "    \"pensamentos_suicidas\": [\"Não\", \"Não\", \"Sim\", \"Sim\", \"Não\", \"Não\", \"Não\", \"Não\", \"Sim\", \"Sim\"],\n",
    "\n",
    "    # Seção 3 - vida acadêmica\n",
    "    \"impacto_academico\": [\"Moderado\", \"Pequeno\", \"Grande\", \"Muito grave\", \"Pequeno\", \"Moderado\", \"Nenhum\", \"Pequeno\", \"Grande\", \"Muito grave\"],\n",
    "    \"motivacao_estudos\": [3, 2, 1, 1, 3, 2, 4, 3, 2, 1],\n",
    "    \"faltou_aula\": [\"Algumas vezes\", \"Uma ou duas vezes\", \"Frequentemente\", \"Muito frequentemente\", \"Uma ou duas vezes\", \"Algumas vezes\", \"Nunca\", \"Nunca\", \"Algumas vezes\", \"Muito frequentemente\"],\n",
    "\n",
    "    # Seção 4 - apoio\n",
    "    \"isolamento\": [\"Às vezes\", \"Frequentemente\", \"Sempre\", \"Sempre\", \"Raramente\", \"Às vezes\", \"Nunca\", \"Às vezes\", \"Frequentemente\", \"Sempre\"],\n",
    "    \"rede_apoio\": [\"Tenho poucas\", \"Sim, tenho algumas\", \"Não tenho ninguém\", \"Tenho poucas\", \"Sim, tenho muitas\", \"Tenho poucas\", \"Sim, tenho muitas\", \"Sim, tenho algumas\", \"Não tenho ninguém\", \"Sim, tenho algumas\"],\n",
    "    \"apoio_familiar\": [\"Pouco\", \"Moderado\", \"Nenhum\", \"Pouco\", \"Muito\", \"Pouco\", \"Total\", \"Moderado\", \"Nenhum\", \"Moderado\"],\n",
    "    \"atividades_sociais\": [\"Sinto-me um pouco à vontade\", \"Não me sinto à vontade\", \"Não me sinto à vontade\", \"Sinto-me um pouco à vontade\", \"Sinto-me à vontade na maioria das vezes\", \"Sinto-me um pouco à vontade\", \"Sinto-me totalmente à vontade\", \"Sinto-me à vontade na maioria das vezes\", \"Não me sinto à vontade\", \"Sinto-me um pouco à vontade\"],\n",
    "\n",
    "    # Seção 5 - hábitos\n",
    "    \"qualidade_sono\": [\"Regular\", \"Boa\", \"Ruim\", \"Muito ruim\", \"Boa\", \"Regular\", \"Muito boa\", \"Regular\", \"Ruim\", \"Muito ruim\"],\n",
    "    \"alimentacao\": [\"Razoável\", \"Saudável\", \"Pouco saudável\", \"Muito pouco saudável\", \"Saudável\", \"Razoável\", \"Muito saudável\", \"Razoável\", \"Pouco saudável\", \"Muito pouco saudável\"],\n",
    "    \"atividade_fisica\": [\"1-2 vezes por semana\", \"3-4 vezes por semana\", \"Nunca ou quase nunca\", \"1-2 vezes por semana\", \"5 ou mais vezes por semana\", \"3-4 vezes por semana\", \"5 ou mais vezes por semana\", \"1-2 vezes por semana\", \"Nunca ou quase nunca\", \"Nunca ou quase nunca\"],\n",
    "    \"uso_substancias\": [\"Às vezes\", \"Nunca\", \"Frequentemente\", \"Muito frequentemente\", \"Raramente\", \"Às vezes\", \"Nunca\", \"Raramente\", \"Frequentemente\", \"Muito frequentemente\"],\n",
    "\n",
    "    # Seção 6 - suporte\n",
    "    \"conhece_servico_apoio\": [\"Sim, conheço bem\", \"Conheço um pouco\", \"Não conheço\", \"Não conheço\", \"Conheço um pouco\", \"Sim, conheço bem\", \"Sim, conheço bem\", \"Conheço um pouco\", \"Não conheço\", \"Não conheço\"],\n",
    "    \"saberia_procurar_ajuda\": [\"Sim, saberia exatamente\", \"Acho que sim\", \"Não, não saberia\", \"Não, não saberia\", \"Sim, saberia exatamente\", \"Acho que sim\", \"Sim, saberia exatamente\", \"Acho que sim\", \"Não, não saberia\", \"Acho que sim\"],\n",
    "    \"ja_buscou_ajuda\": [\"Sim, já busquei\", \"Sim, pensei mas não busquei\", \"Não, nunca pensei em buscar\", \"Sim, pensei mas não busquei\", \"Não, nunca pensei em buscar\", \"Sim, já busquei\", \"Sim, já busquei\", \"Sim, pensei mas não busquei\", \"Sim, pensei mas não busquei\", \"Não, nunca pensei em buscar\"]\n",
    "}"
   ]
  },
  {
   "cell_type": "code",
   "execution_count": 14,
   "id": "ecc02384-e4aa-4580-88c7-0ee2b6492d08",
   "metadata": {},
   "outputs": [
    {
     "data": {
      "text/html": [
       "<div>\n",
       "<style scoped>\n",
       "    .dataframe tbody tr th:only-of-type {\n",
       "        vertical-align: middle;\n",
       "    }\n",
       "\n",
       "    .dataframe tbody tr th {\n",
       "        vertical-align: top;\n",
       "    }\n",
       "\n",
       "    .dataframe thead th {\n",
       "        text-align: right;\n",
       "    }\n",
       "</style>\n",
       "<table border=\"1\" class=\"dataframe\">\n",
       "  <thead>\n",
       "    <tr style=\"text-align: right;\">\n",
       "      <th></th>\n",
       "      <th>idade</th>\n",
       "      <th>genero</th>\n",
       "      <th>curso</th>\n",
       "      <th>periodo</th>\n",
       "      <th>trabalha_ou_estagia</th>\n",
       "      <th>horas_trabalho</th>\n",
       "      <th>moradia</th>\n",
       "      <th>depressao</th>\n",
       "      <th>prazer</th>\n",
       "      <th>ansiedade</th>\n",
       "      <th>preocupacao</th>\n",
       "      <th>sono_ruim</th>\n",
       "      <th>cansaco</th>\n",
       "      <th>alimentacao_ruim</th>\n",
       "      <th>autoimagem_negativa</th>\n",
       "      <th>concentracao_ruim</th>\n",
       "      <th>agitacao</th>\n",
       "      <th>pensamentos_suicidas</th>\n",
       "      <th>impacto_academico</th>\n",
       "      <th>motivacao_estudos</th>\n",
       "      <th>faltou_aula</th>\n",
       "      <th>isolamento</th>\n",
       "      <th>rede_apoio</th>\n",
       "      <th>apoio_familiar</th>\n",
       "      <th>atividades_sociais</th>\n",
       "      <th>qualidade_sono</th>\n",
       "      <th>alimentacao</th>\n",
       "      <th>atividade_fisica</th>\n",
       "      <th>uso_substancias</th>\n",
       "      <th>conhece_servico_apoio</th>\n",
       "      <th>saberia_procurar_ajuda</th>\n",
       "      <th>ja_buscou_ajuda</th>\n",
       "    </tr>\n",
       "  </thead>\n",
       "  <tbody>\n",
       "    <tr>\n",
       "      <th>0</th>\n",
       "      <td>19</td>\n",
       "      <td>Mulher</td>\n",
       "      <td>Engenharia</td>\n",
       "      <td>1</td>\n",
       "      <td>Sim</td>\n",
       "      <td>20.0</td>\n",
       "      <td>Com a família</td>\n",
       "      <td>3</td>\n",
       "      <td>2</td>\n",
       "      <td>3</td>\n",
       "      <td>3</td>\n",
       "      <td>4</td>\n",
       "      <td>4</td>\n",
       "      <td>3</td>\n",
       "      <td>4</td>\n",
       "      <td>3</td>\n",
       "      <td>2</td>\n",
       "      <td>Não</td>\n",
       "      <td>Moderado</td>\n",
       "      <td>3</td>\n",
       "      <td>Algumas vezes</td>\n",
       "      <td>Às vezes</td>\n",
       "      <td>Tenho poucas</td>\n",
       "      <td>Pouco</td>\n",
       "      <td>Sinto-me um pouco à vontade</td>\n",
       "      <td>Regular</td>\n",
       "      <td>Razoável</td>\n",
       "      <td>1-2 vezes por semana</td>\n",
       "      <td>Às vezes</td>\n",
       "      <td>Sim, conheço bem</td>\n",
       "      <td>Sim, saberia exatamente</td>\n",
       "      <td>Sim, já busquei</td>\n",
       "    </tr>\n",
       "    <tr>\n",
       "      <th>1</th>\n",
       "      <td>22</td>\n",
       "      <td>Homem</td>\n",
       "      <td>Psicologia</td>\n",
       "      <td>3</td>\n",
       "      <td>Não</td>\n",
       "      <td>NaN</td>\n",
       "      <td>Sozinho(a)</td>\n",
       "      <td>2</td>\n",
       "      <td>3</td>\n",
       "      <td>4</td>\n",
       "      <td>3</td>\n",
       "      <td>2</td>\n",
       "      <td>3</td>\n",
       "      <td>1</td>\n",
       "      <td>2</td>\n",
       "      <td>2</td>\n",
       "      <td>1</td>\n",
       "      <td>Não</td>\n",
       "      <td>Pequeno</td>\n",
       "      <td>2</td>\n",
       "      <td>Uma ou duas vezes</td>\n",
       "      <td>Frequentemente</td>\n",
       "      <td>Sim, tenho algumas</td>\n",
       "      <td>Moderado</td>\n",
       "      <td>Não me sinto à vontade</td>\n",
       "      <td>Boa</td>\n",
       "      <td>Saudável</td>\n",
       "      <td>3-4 vezes por semana</td>\n",
       "      <td>Nunca</td>\n",
       "      <td>Conheço um pouco</td>\n",
       "      <td>Acho que sim</td>\n",
       "      <td>Sim, pensei mas não busquei</td>\n",
       "    </tr>\n",
       "    <tr>\n",
       "      <th>2</th>\n",
       "      <td>20</td>\n",
       "      <td>Homem</td>\n",
       "      <td>Direito</td>\n",
       "      <td>5</td>\n",
       "      <td>Sim</td>\n",
       "      <td>15.0</td>\n",
       "      <td>Com amigos</td>\n",
       "      <td>4</td>\n",
       "      <td>2</td>\n",
       "      <td>5</td>\n",
       "      <td>4</td>\n",
       "      <td>5</td>\n",
       "      <td>5</td>\n",
       "      <td>4</td>\n",
       "      <td>5</td>\n",
       "      <td>4</td>\n",
       "      <td>4</td>\n",
       "      <td>Sim</td>\n",
       "      <td>Grande</td>\n",
       "      <td>1</td>\n",
       "      <td>Frequentemente</td>\n",
       "      <td>Sempre</td>\n",
       "      <td>Não tenho ninguém</td>\n",
       "      <td>Nenhum</td>\n",
       "      <td>Não me sinto à vontade</td>\n",
       "      <td>Ruim</td>\n",
       "      <td>Pouco saudável</td>\n",
       "      <td>Nunca ou quase nunca</td>\n",
       "      <td>Frequentemente</td>\n",
       "      <td>Não conheço</td>\n",
       "      <td>Não, não saberia</td>\n",
       "      <td>Não, nunca pensei em buscar</td>\n",
       "    </tr>\n",
       "    <tr>\n",
       "      <th>3</th>\n",
       "      <td>25</td>\n",
       "      <td>Mulher</td>\n",
       "      <td>Medicina</td>\n",
       "      <td>7</td>\n",
       "      <td>Sim</td>\n",
       "      <td>30.0</td>\n",
       "      <td>Moradia estudantil</td>\n",
       "      <td>5</td>\n",
       "      <td>4</td>\n",
       "      <td>5</td>\n",
       "      <td>5</td>\n",
       "      <td>5</td>\n",
       "      <td>4</td>\n",
       "      <td>5</td>\n",
       "      <td>4</td>\n",
       "      <td>5</td>\n",
       "      <td>5</td>\n",
       "      <td>Sim</td>\n",
       "      <td>Muito grave</td>\n",
       "      <td>1</td>\n",
       "      <td>Muito frequentemente</td>\n",
       "      <td>Sempre</td>\n",
       "      <td>Tenho poucas</td>\n",
       "      <td>Pouco</td>\n",
       "      <td>Sinto-me um pouco à vontade</td>\n",
       "      <td>Muito ruim</td>\n",
       "      <td>Muito pouco saudável</td>\n",
       "      <td>1-2 vezes por semana</td>\n",
       "      <td>Muito frequentemente</td>\n",
       "      <td>Não conheço</td>\n",
       "      <td>Não, não saberia</td>\n",
       "      <td>Sim, pensei mas não busquei</td>\n",
       "    </tr>\n",
       "    <tr>\n",
       "      <th>4</th>\n",
       "      <td>21</td>\n",
       "      <td>Não-binário</td>\n",
       "      <td>Ciência da Computação</td>\n",
       "      <td>2</td>\n",
       "      <td>Não</td>\n",
       "      <td>NaN</td>\n",
       "      <td>Com a família</td>\n",
       "      <td>3</td>\n",
       "      <td>3</td>\n",
       "      <td>2</td>\n",
       "      <td>2</td>\n",
       "      <td>3</td>\n",
       "      <td>3</td>\n",
       "      <td>2</td>\n",
       "      <td>3</td>\n",
       "      <td>3</td>\n",
       "      <td>3</td>\n",
       "      <td>Não</td>\n",
       "      <td>Pequeno</td>\n",
       "      <td>3</td>\n",
       "      <td>Uma ou duas vezes</td>\n",
       "      <td>Raramente</td>\n",
       "      <td>Sim, tenho muitas</td>\n",
       "      <td>Muito</td>\n",
       "      <td>Sinto-me à vontade na maioria das vezes</td>\n",
       "      <td>Boa</td>\n",
       "      <td>Saudável</td>\n",
       "      <td>5 ou mais vezes por semana</td>\n",
       "      <td>Raramente</td>\n",
       "      <td>Conheço um pouco</td>\n",
       "      <td>Sim, saberia exatamente</td>\n",
       "      <td>Não, nunca pensei em buscar</td>\n",
       "    </tr>\n",
       "  </tbody>\n",
       "</table>\n",
       "</div>"
      ],
      "text/plain": [
       "   idade       genero                  curso  periodo trabalha_ou_estagia  \\\n",
       "0     19       Mulher             Engenharia        1                 Sim   \n",
       "1     22        Homem             Psicologia        3                 Não   \n",
       "2     20        Homem                Direito        5                 Sim   \n",
       "3     25       Mulher               Medicina        7                 Sim   \n",
       "4     21  Não-binário  Ciência da Computação        2                 Não   \n",
       "\n",
       "   horas_trabalho             moradia  depressao  prazer  ansiedade  \\\n",
       "0            20.0       Com a família          3       2          3   \n",
       "1             NaN          Sozinho(a)          2       3          4   \n",
       "2            15.0          Com amigos          4       2          5   \n",
       "3            30.0  Moradia estudantil          5       4          5   \n",
       "4             NaN       Com a família          3       3          2   \n",
       "\n",
       "   preocupacao  sono_ruim  cansaco  alimentacao_ruim  autoimagem_negativa  \\\n",
       "0            3          4        4                 3                    4   \n",
       "1            3          2        3                 1                    2   \n",
       "2            4          5        5                 4                    5   \n",
       "3            5          5        4                 5                    4   \n",
       "4            2          3        3                 2                    3   \n",
       "\n",
       "   concentracao_ruim  agitacao pensamentos_suicidas impacto_academico  \\\n",
       "0                  3         2                  Não          Moderado   \n",
       "1                  2         1                  Não           Pequeno   \n",
       "2                  4         4                  Sim            Grande   \n",
       "3                  5         5                  Sim       Muito grave   \n",
       "4                  3         3                  Não           Pequeno   \n",
       "\n",
       "   motivacao_estudos           faltou_aula      isolamento  \\\n",
       "0                  3         Algumas vezes        Às vezes   \n",
       "1                  2     Uma ou duas vezes  Frequentemente   \n",
       "2                  1        Frequentemente          Sempre   \n",
       "3                  1  Muito frequentemente          Sempre   \n",
       "4                  3     Uma ou duas vezes       Raramente   \n",
       "\n",
       "           rede_apoio apoio_familiar                       atividades_sociais  \\\n",
       "0        Tenho poucas          Pouco              Sinto-me um pouco à vontade   \n",
       "1  Sim, tenho algumas       Moderado                   Não me sinto à vontade   \n",
       "2   Não tenho ninguém         Nenhum                   Não me sinto à vontade   \n",
       "3        Tenho poucas          Pouco              Sinto-me um pouco à vontade   \n",
       "4   Sim, tenho muitas          Muito  Sinto-me à vontade na maioria das vezes   \n",
       "\n",
       "  qualidade_sono           alimentacao            atividade_fisica  \\\n",
       "0        Regular              Razoável        1-2 vezes por semana   \n",
       "1            Boa              Saudável        3-4 vezes por semana   \n",
       "2           Ruim        Pouco saudável        Nunca ou quase nunca   \n",
       "3     Muito ruim  Muito pouco saudável        1-2 vezes por semana   \n",
       "4            Boa              Saudável  5 ou mais vezes por semana   \n",
       "\n",
       "        uso_substancias conhece_servico_apoio   saberia_procurar_ajuda  \\\n",
       "0              Às vezes      Sim, conheço bem  Sim, saberia exatamente   \n",
       "1                 Nunca      Conheço um pouco             Acho que sim   \n",
       "2        Frequentemente           Não conheço         Não, não saberia   \n",
       "3  Muito frequentemente           Não conheço         Não, não saberia   \n",
       "4             Raramente      Conheço um pouco  Sim, saberia exatamente   \n",
       "\n",
       "               ja_buscou_ajuda  \n",
       "0              Sim, já busquei  \n",
       "1  Sim, pensei mas não busquei  \n",
       "2  Não, nunca pensei em buscar  \n",
       "3  Sim, pensei mas não busquei  \n",
       "4  Não, nunca pensei em buscar  "
      ]
     },
     "execution_count": 14,
     "metadata": {},
     "output_type": "execute_result"
    }
   ],
   "source": [
    "# Criando o DataFrame\n",
    "df = pd.DataFrame(dados)\n",
    "pd.set_option('display.max_columns', None)\n",
    "df.head()"
   ]
  },
  {
   "cell_type": "code",
   "execution_count": 15,
   "id": "ac6fd72c-7a2e-430c-b6ab-daa8e81e1e46",
   "metadata": {},
   "outputs": [
    {
     "name": "stdout",
     "output_type": "stream",
     "text": [
      "<class 'pandas.core.frame.DataFrame'>\n",
      "RangeIndex: 10 entries, 0 to 9\n",
      "Data columns (total 32 columns):\n",
      " #   Column                  Non-Null Count  Dtype  \n",
      "---  ------                  --------------  -----  \n",
      " 0   idade                   10 non-null     int64  \n",
      " 1   genero                  10 non-null     object \n",
      " 2   curso                   10 non-null     object \n",
      " 3   periodo                 10 non-null     int64  \n",
      " 4   trabalha_ou_estagia     10 non-null     object \n",
      " 5   horas_trabalho          6 non-null      float64\n",
      " 6   moradia                 10 non-null     object \n",
      " 7   depressao               10 non-null     int64  \n",
      " 8   prazer                  10 non-null     int64  \n",
      " 9   ansiedade               10 non-null     int64  \n",
      " 10  preocupacao             10 non-null     int64  \n",
      " 11  sono_ruim               10 non-null     int64  \n",
      " 12  cansaco                 10 non-null     int64  \n",
      " 13  alimentacao_ruim        10 non-null     int64  \n",
      " 14  autoimagem_negativa     10 non-null     int64  \n",
      " 15  concentracao_ruim       10 non-null     int64  \n",
      " 16  agitacao                10 non-null     int64  \n",
      " 17  pensamentos_suicidas    10 non-null     object \n",
      " 18  impacto_academico       10 non-null     object \n",
      " 19  motivacao_estudos       10 non-null     int64  \n",
      " 20  faltou_aula             10 non-null     object \n",
      " 21  isolamento              10 non-null     object \n",
      " 22  rede_apoio              10 non-null     object \n",
      " 23  apoio_familiar          10 non-null     object \n",
      " 24  atividades_sociais      10 non-null     object \n",
      " 25  qualidade_sono          10 non-null     object \n",
      " 26  alimentacao             10 non-null     object \n",
      " 27  atividade_fisica        10 non-null     object \n",
      " 28  uso_substancias         10 non-null     object \n",
      " 29  conhece_servico_apoio   10 non-null     object \n",
      " 30  saberia_procurar_ajuda  10 non-null     object \n",
      " 31  ja_buscou_ajuda         10 non-null     object \n",
      "dtypes: float64(1), int64(13), object(18)\n",
      "memory usage: 2.6+ KB\n"
     ]
    }
   ],
   "source": [
    "# Verificando informações\n",
    "df.info()"
   ]
  },
  {
   "cell_type": "code",
   "execution_count": 16,
   "id": "67baeab9-5685-4eb9-bd06-41127460530c",
   "metadata": {},
   "outputs": [
    {
     "data": {
      "text/plain": [
       "idade                     0\n",
       "genero                    0\n",
       "curso                     0\n",
       "periodo                   0\n",
       "trabalha_ou_estagia       0\n",
       "horas_trabalho            4\n",
       "moradia                   0\n",
       "depressao                 0\n",
       "prazer                    0\n",
       "ansiedade                 0\n",
       "preocupacao               0\n",
       "sono_ruim                 0\n",
       "cansaco                   0\n",
       "alimentacao_ruim          0\n",
       "autoimagem_negativa       0\n",
       "concentracao_ruim         0\n",
       "agitacao                  0\n",
       "pensamentos_suicidas      0\n",
       "impacto_academico         0\n",
       "motivacao_estudos         0\n",
       "faltou_aula               0\n",
       "isolamento                0\n",
       "rede_apoio                0\n",
       "apoio_familiar            0\n",
       "atividades_sociais        0\n",
       "qualidade_sono            0\n",
       "alimentacao               0\n",
       "atividade_fisica          0\n",
       "uso_substancias           0\n",
       "conhece_servico_apoio     0\n",
       "saberia_procurar_ajuda    0\n",
       "ja_buscou_ajuda           0\n",
       "dtype: int64"
      ]
     },
     "execution_count": 16,
     "metadata": {},
     "output_type": "execute_result"
    }
   ],
   "source": [
    "# Valores faltantes\n",
    "df.isna().sum()"
   ]
  },
  {
   "cell_type": "code",
   "execution_count": 17,
   "id": "5a5055eb-de58-4b31-8584-18a10eea3aa6",
   "metadata": {},
   "outputs": [
    {
     "data": {
      "text/plain": [
       "idade                     0\n",
       "genero                    0\n",
       "curso                     0\n",
       "periodo                   0\n",
       "trabalha_ou_estagia       0\n",
       "horas_trabalho            0\n",
       "moradia                   0\n",
       "depressao                 0\n",
       "prazer                    0\n",
       "ansiedade                 0\n",
       "preocupacao               0\n",
       "sono_ruim                 0\n",
       "cansaco                   0\n",
       "alimentacao_ruim          0\n",
       "autoimagem_negativa       0\n",
       "concentracao_ruim         0\n",
       "agitacao                  0\n",
       "pensamentos_suicidas      0\n",
       "impacto_academico         0\n",
       "motivacao_estudos         0\n",
       "faltou_aula               0\n",
       "isolamento                0\n",
       "rede_apoio                0\n",
       "apoio_familiar            0\n",
       "atividades_sociais        0\n",
       "qualidade_sono            0\n",
       "alimentacao               0\n",
       "atividade_fisica          0\n",
       "uso_substancias           0\n",
       "conhece_servico_apoio     0\n",
       "saberia_procurar_ajuda    0\n",
       "ja_buscou_ajuda           0\n",
       "dtype: int64"
      ]
     },
     "execution_count": 17,
     "metadata": {},
     "output_type": "execute_result"
    }
   ],
   "source": [
    "df['horas_trabalho'] = df['horas_trabalho'].fillna(0)\n",
    "df.isna().sum()"
   ]
  },
  {
   "cell_type": "markdown",
   "id": "90eb7d62-a194-4d1e-b076-59100567127e",
   "metadata": {},
   "source": [
    "### Mapeamento de alguns valores não numéricos"
   ]
  },
  {
   "cell_type": "code",
   "execution_count": 18,
   "id": "80b196de-e971-41dc-813b-9d2cdb108cbe",
   "metadata": {},
   "outputs": [],
   "source": [
    "map_trabalho = {'Sim': 1,\n",
    "               'Não': 0}\n",
    "\n",
    "map_substancias = {'Nunca': 0,\n",
    "                  'Raramente': 1,\n",
    "                  'Às vezes': 2,\n",
    "                  'Frequentemente': 3,\n",
    "                  'Muito frequentemente': 4}\n",
    "\n",
    "map_sono = {'Muito boa': 4,\n",
    "           'Boa': 3,\n",
    "           'Regular': 2,\n",
    "           'Ruim': 1,\n",
    "           'Muito ruim': 0}\n",
    "\n",
    "map_alimentacao = {\n",
    "    'Muito pouco saudável': 0,\n",
    "    'Pouco saudável': 1,\n",
    "    'Razoável': 2,\n",
    "    'Saudável': 3,\n",
    "    'Muito saudável': 4}\n",
    "\n",
    "map_suicidio = {'Sim': 1,\n",
    "               'Não': 0}\n",
    "\n",
    "\n",
    "map_at_fisica = {'Nunca ou quase nunca': 0,\n",
    "                '1-2 vezes por semana': 1,\n",
    "                '3-4 vezes por semana': 2,\n",
    "                '5 ou mais vezes por semana':3}\n",
    "\n",
    "df['trabalha_ou_estagia'] = df['trabalha_ou_estagia'].map(map_trabalho)\n",
    "df['qualidade_sono'] = df['qualidade_sono'].map(map_sono)\n",
    "df['alimentacao'] = df['alimentacao'].map(map_alimentacao)\n",
    "df['uso_substancias'] = df['uso_substancias'].map(map_substancias)\n",
    "df['pensamentos_suicidas'] = df['pensamentos_suicidas'].map(map_suicidio)\n",
    "df['atividade_fisica'] = df['atividade_fisica'].map(map_at_fisica)"
   ]
  },
  {
   "cell_type": "markdown",
   "id": "db41e8ee-e428-4788-9e9e-5a91a7eab9bd",
   "metadata": {},
   "source": [
    "# 1. Estatísticas descritivas\n",
    "a) Qual a média de idade dos participantes?\n",
    "\n",
    "b) Quantos participantes estão em cada período?\n",
    "\n",
    "c) Qual a proporção de estudantes que trabalham ou estagiam?"
   ]
  },
  {
   "cell_type": "code",
   "execution_count": 19,
   "id": "1a7eddd6-bf7a-4f89-bb13-655c07a5630a",
   "metadata": {},
   "outputs": [
    {
     "name": "stdout",
     "output_type": "stream",
     "text": [
      "Idade média: 22\n"
     ]
    }
   ],
   "source": [
    "# A)\n",
    "media_idade = df['idade'].mean()\n",
    "print(f\"Idade média: {media_idade:.0f}\")"
   ]
  },
  {
   "cell_type": "code",
   "execution_count": 20,
   "id": "6293cb04-0579-4699-af98-a3fa9b2e5b28",
   "metadata": {},
   "outputs": [
    {
     "name": "stdout",
     "output_type": "stream",
     "text": [
      "Estudantes por período: \n"
     ]
    },
    {
     "data": {
      "text/plain": [
       "periodo\n",
       "1     1\n",
       "3     1\n",
       "5     1\n",
       "7     1\n",
       "2     1\n",
       "10    1\n",
       "6     1\n",
       "4     1\n",
       "8     1\n",
       "9     1\n",
       "Name: count, dtype: int64"
      ]
     },
     "execution_count": 20,
     "metadata": {},
     "output_type": "execute_result"
    }
   ],
   "source": [
    "# B)\n",
    "print('Estudantes por período: ')\n",
    "df['periodo'].value_counts()"
   ]
  },
  {
   "cell_type": "code",
   "execution_count": 21,
   "id": "7c356c05-b77b-4cba-b5cd-4e6a0838696a",
   "metadata": {},
   "outputs": [
    {
     "name": "stdout",
     "output_type": "stream",
     "text": [
      "Proporção dos que trabalham/estagiam:  60.00%\n"
     ]
    }
   ],
   "source": [
    "# C)\n",
    "print('Proporção dos que trabalham/estagiam: ', end=' ')\n",
    "work_intern = df[df['trabalha_ou_estagia'] == 1]\n",
    "proportion = (len(work_intern)/len(df))*100\n",
    "print(f'{proportion:.2f}%')"
   ]
  },
  {
   "cell_type": "markdown",
   "id": "af32b098-1845-4e41-ad52-27a49a3e53e3",
   "metadata": {},
   "source": [
    "# 2. Filtros e segmentações\n",
    "\n",
    "a) Quantos alunos com pensamentos suicidas também relataram alta frequência de ansiedade (valores 4 ou 5)?\n",
    "\n",
    "b) Liste os cursos com mais estudantes que afirmaram não ter rede de apoio.\n",
    "\n",
    "c) Qual a média de horas de trabalho para quem sente “grande impacto” ou “impacto muito grave” nos estudos?"
   ]
  },
  {
   "cell_type": "code",
   "execution_count": 22,
   "id": "3e04eb13-e11a-4c66-b7c0-a10bbb0437ac",
   "metadata": {},
   "outputs": [
    {
     "name": "stdout",
     "output_type": "stream",
     "text": [
      "Alunos em risco: 4\n"
     ]
    }
   ],
   "source": [
    "# a)\n",
    "em_risco = df[(df['pensamentos_suicidas'] == 1) & (df['ansiedade'] >= 4)]\n",
    "print(f\"Alunos em risco: {len(em_risco)}\")"
   ]
  },
  {
   "cell_type": "code",
   "execution_count": 23,
   "id": "b12ec99e-9039-4c52-90c6-dee10aeff8d1",
   "metadata": {},
   "outputs": [
    {
     "data": {
      "text/plain": [
       "curso\n",
       "Direito     1\n",
       "História    1\n",
       "Name: count, dtype: int64"
      ]
     },
     "execution_count": 23,
     "metadata": {},
     "output_type": "execute_result"
    }
   ],
   "source": [
    "# b)\n",
    "sem_ninguem = df['rede_apoio'] == 'Não tenho ninguém'\n",
    "\n",
    "# Cursos\n",
    "cursos = df[sem_ninguem]['curso'].value_counts()\n",
    "cursos"
   ]
  },
  {
   "cell_type": "code",
   "execution_count": 24,
   "id": "807aef30-335e-4fb1-b24a-5d82d495c098",
   "metadata": {},
   "outputs": [
    {
     "name": "stdout",
     "output_type": "stream",
     "text": [
      "22.5 horas trabalhadas em média\n"
     ]
    }
   ],
   "source": [
    "# c)\n",
    "# Um filtro, como no exemplo abaixo, não filtra os resultados\n",
    "sente_impacto = (df['impacto_academico'] == 'Grande') | (df['impacto_academico'] == 'Muito grave')\n",
    "media = df[sente_impacto]['horas_trabalho'].mean()\n",
    "print(f'{media} horas trabalhadas em média')"
   ]
  },
  {
   "cell_type": "markdown",
   "id": "ad4d5625-a6ba-40d3-9c63-609b4b2c32b3",
   "metadata": {},
   "source": [
    "# 3. Cruzamentos de dados\n",
    "\n",
    "a) Existe diferença na frequência de isolamento entre homens e mulheres?\n",
    "\n",
    "b) Estudantes com sono ruim ou muito ruim têm mais pensamentos suicidas?\n",
    "\n",
    "c) Compare a motivação média entre alunos com e sem apoio familiar."
   ]
  },
  {
   "cell_type": "code",
   "execution_count": 25,
   "id": "ee7797c4-c1c8-495e-b25a-7e3516a75586",
   "metadata": {},
   "outputs": [
    {
     "data": {
      "text/html": [
       "<div>\n",
       "<style scoped>\n",
       "    .dataframe tbody tr th:only-of-type {\n",
       "        vertical-align: middle;\n",
       "    }\n",
       "\n",
       "    .dataframe tbody tr th {\n",
       "        vertical-align: top;\n",
       "    }\n",
       "\n",
       "    .dataframe thead th {\n",
       "        text-align: right;\n",
       "    }\n",
       "</style>\n",
       "<table border=\"1\" class=\"dataframe\">\n",
       "  <thead>\n",
       "    <tr style=\"text-align: right;\">\n",
       "      <th>isolamento</th>\n",
       "      <th>Frequentemente</th>\n",
       "      <th>Nunca</th>\n",
       "      <th>Raramente</th>\n",
       "      <th>Sempre</th>\n",
       "      <th>Às vezes</th>\n",
       "    </tr>\n",
       "    <tr>\n",
       "      <th>genero</th>\n",
       "      <th></th>\n",
       "      <th></th>\n",
       "      <th></th>\n",
       "      <th></th>\n",
       "      <th></th>\n",
       "    </tr>\n",
       "  </thead>\n",
       "  <tbody>\n",
       "    <tr>\n",
       "      <th>Homem</th>\n",
       "      <td>1</td>\n",
       "      <td>0</td>\n",
       "      <td>0</td>\n",
       "      <td>1</td>\n",
       "      <td>1</td>\n",
       "    </tr>\n",
       "    <tr>\n",
       "      <th>Mulher</th>\n",
       "      <td>1</td>\n",
       "      <td>1</td>\n",
       "      <td>0</td>\n",
       "      <td>1</td>\n",
       "      <td>1</td>\n",
       "    </tr>\n",
       "    <tr>\n",
       "      <th>Não-binário</th>\n",
       "      <td>0</td>\n",
       "      <td>0</td>\n",
       "      <td>1</td>\n",
       "      <td>0</td>\n",
       "      <td>0</td>\n",
       "    </tr>\n",
       "    <tr>\n",
       "      <th>Outro</th>\n",
       "      <td>0</td>\n",
       "      <td>0</td>\n",
       "      <td>0</td>\n",
       "      <td>1</td>\n",
       "      <td>0</td>\n",
       "    </tr>\n",
       "    <tr>\n",
       "      <th>Prefiro não dizer</th>\n",
       "      <td>0</td>\n",
       "      <td>0</td>\n",
       "      <td>0</td>\n",
       "      <td>0</td>\n",
       "      <td>1</td>\n",
       "    </tr>\n",
       "  </tbody>\n",
       "</table>\n",
       "</div>"
      ],
      "text/plain": [
       "isolamento         Frequentemente  Nunca  Raramente  Sempre  Às vezes\n",
       "genero                                                               \n",
       "Homem                           1      0          0       1         1\n",
       "Mulher                          1      1          0       1         1\n",
       "Não-binário                     0      0          1       0         0\n",
       "Outro                           0      0          0       1         0\n",
       "Prefiro não dizer               0      0          0       0         1"
      ]
     },
     "execution_count": 25,
     "metadata": {},
     "output_type": "execute_result"
    }
   ],
   "source": [
    "# a)\n",
    "pd.crosstab(df['genero'], [df['isolamento']])"
   ]
  },
  {
   "cell_type": "code",
   "execution_count": 26,
   "id": "36634d7e-689c-4cce-aa0b-71a674c4369f",
   "metadata": {},
   "outputs": [
    {
     "data": {
      "text/html": [
       "<div>\n",
       "<style scoped>\n",
       "    .dataframe tbody tr th:only-of-type {\n",
       "        vertical-align: middle;\n",
       "    }\n",
       "\n",
       "    .dataframe tbody tr th {\n",
       "        vertical-align: top;\n",
       "    }\n",
       "\n",
       "    .dataframe thead th {\n",
       "        text-align: right;\n",
       "    }\n",
       "</style>\n",
       "<table border=\"1\" class=\"dataframe\">\n",
       "  <thead>\n",
       "    <tr style=\"text-align: right;\">\n",
       "      <th>isolamento</th>\n",
       "      <th>Frequentemente</th>\n",
       "      <th>Nunca</th>\n",
       "      <th>Raramente</th>\n",
       "      <th>Sempre</th>\n",
       "      <th>Às vezes</th>\n",
       "    </tr>\n",
       "    <tr>\n",
       "      <th>genero</th>\n",
       "      <th></th>\n",
       "      <th></th>\n",
       "      <th></th>\n",
       "      <th></th>\n",
       "      <th></th>\n",
       "    </tr>\n",
       "  </thead>\n",
       "  <tbody>\n",
       "    <tr>\n",
       "      <th>Homem</th>\n",
       "      <td>33.33</td>\n",
       "      <td>0.0</td>\n",
       "      <td>0.0</td>\n",
       "      <td>33.33</td>\n",
       "      <td>33.33</td>\n",
       "    </tr>\n",
       "    <tr>\n",
       "      <th>Mulher</th>\n",
       "      <td>25.00</td>\n",
       "      <td>25.0</td>\n",
       "      <td>0.0</td>\n",
       "      <td>25.00</td>\n",
       "      <td>25.00</td>\n",
       "    </tr>\n",
       "    <tr>\n",
       "      <th>Não-binário</th>\n",
       "      <td>0.00</td>\n",
       "      <td>0.0</td>\n",
       "      <td>100.0</td>\n",
       "      <td>0.00</td>\n",
       "      <td>0.00</td>\n",
       "    </tr>\n",
       "    <tr>\n",
       "      <th>Outro</th>\n",
       "      <td>0.00</td>\n",
       "      <td>0.0</td>\n",
       "      <td>0.0</td>\n",
       "      <td>100.00</td>\n",
       "      <td>0.00</td>\n",
       "    </tr>\n",
       "    <tr>\n",
       "      <th>Prefiro não dizer</th>\n",
       "      <td>0.00</td>\n",
       "      <td>0.0</td>\n",
       "      <td>0.0</td>\n",
       "      <td>0.00</td>\n",
       "      <td>100.00</td>\n",
       "    </tr>\n",
       "  </tbody>\n",
       "</table>\n",
       "</div>"
      ],
      "text/plain": [
       "isolamento         Frequentemente  Nunca  Raramente  Sempre  Às vezes\n",
       "genero                                                               \n",
       "Homem                       33.33    0.0        0.0   33.33     33.33\n",
       "Mulher                      25.00   25.0        0.0   25.00     25.00\n",
       "Não-binário                  0.00    0.0      100.0    0.00      0.00\n",
       "Outro                        0.00    0.0        0.0  100.00      0.00\n",
       "Prefiro não dizer            0.00    0.0        0.0    0.00    100.00"
      ]
     },
     "execution_count": 26,
     "metadata": {},
     "output_type": "execute_result"
    }
   ],
   "source": [
    "# a)\n",
    "(pd.crosstab(df['genero'], df['isolamento'], normalize='index')*100).round(2)"
   ]
  },
  {
   "cell_type": "code",
   "execution_count": 27,
   "id": "72fb817d-5706-4539-b9d6-d7672e41929b",
   "metadata": {},
   "outputs": [
    {
     "data": {
      "text/html": [
       "<div>\n",
       "<style scoped>\n",
       "    .dataframe tbody tr th:only-of-type {\n",
       "        vertical-align: middle;\n",
       "    }\n",
       "\n",
       "    .dataframe tbody tr th {\n",
       "        vertical-align: top;\n",
       "    }\n",
       "\n",
       "    .dataframe thead th {\n",
       "        text-align: right;\n",
       "    }\n",
       "</style>\n",
       "<table border=\"1\" class=\"dataframe\">\n",
       "  <thead>\n",
       "    <tr style=\"text-align: right;\">\n",
       "      <th>pensamentos_suicidas</th>\n",
       "      <th>1</th>\n",
       "    </tr>\n",
       "    <tr>\n",
       "      <th>qualidade_sono</th>\n",
       "      <th></th>\n",
       "    </tr>\n",
       "  </thead>\n",
       "  <tbody>\n",
       "    <tr>\n",
       "      <th>0</th>\n",
       "      <td>2</td>\n",
       "    </tr>\n",
       "    <tr>\n",
       "      <th>1</th>\n",
       "      <td>2</td>\n",
       "    </tr>\n",
       "  </tbody>\n",
       "</table>\n",
       "</div>"
      ],
      "text/plain": [
       "pensamentos_suicidas  1\n",
       "qualidade_sono         \n",
       "0                     2\n",
       "1                     2"
      ]
     },
     "execution_count": 27,
     "metadata": {},
     "output_type": "execute_result"
    }
   ],
   "source": [
    "# b)\n",
    "sono = df[(df['qualidade_sono'] == 1) | (df['qualidade_sono'] == 0)]\n",
    "pd.crosstab(sono['qualidade_sono'], df['pensamentos_suicidas'])"
   ]
  },
  {
   "cell_type": "code",
   "execution_count": 28,
   "id": "c81a19c5-3b87-486f-937b-247d34447793",
   "metadata": {},
   "outputs": [
    {
     "data": {
      "text/html": [
       "<div>\n",
       "<style scoped>\n",
       "    .dataframe tbody tr th:only-of-type {\n",
       "        vertical-align: middle;\n",
       "    }\n",
       "\n",
       "    .dataframe tbody tr th {\n",
       "        vertical-align: top;\n",
       "    }\n",
       "\n",
       "    .dataframe thead th {\n",
       "        text-align: right;\n",
       "    }\n",
       "</style>\n",
       "<table border=\"1\" class=\"dataframe\">\n",
       "  <thead>\n",
       "    <tr style=\"text-align: right;\">\n",
       "      <th>motivacao_estudos</th>\n",
       "      <th>1</th>\n",
       "      <th>2</th>\n",
       "      <th>4</th>\n",
       "    </tr>\n",
       "    <tr>\n",
       "      <th>apoio_familiar</th>\n",
       "      <th></th>\n",
       "      <th></th>\n",
       "      <th></th>\n",
       "    </tr>\n",
       "  </thead>\n",
       "  <tbody>\n",
       "    <tr>\n",
       "      <th>Nenhum</th>\n",
       "      <td>1</td>\n",
       "      <td>1</td>\n",
       "      <td>0</td>\n",
       "    </tr>\n",
       "    <tr>\n",
       "      <th>Total</th>\n",
       "      <td>0</td>\n",
       "      <td>0</td>\n",
       "      <td>1</td>\n",
       "    </tr>\n",
       "  </tbody>\n",
       "</table>\n",
       "</div>"
      ],
      "text/plain": [
       "motivacao_estudos  1  2  4\n",
       "apoio_familiar            \n",
       "Nenhum             1  1  0\n",
       "Total              0  0  1"
      ]
     },
     "execution_count": 28,
     "metadata": {},
     "output_type": "execute_result"
    }
   ],
   "source": [
    "# c)\n",
    "apoio = df[(df['apoio_familiar'] == 'Total') | (df['apoio_familiar'] == 'Nenhum')]\n",
    "pd.crosstab(apoio['apoio_familiar'], df['motivacao_estudos'])"
   ]
  },
  {
   "cell_type": "markdown",
   "id": "96228c5d-d2bd-405b-9eaf-d61b46772083",
   "metadata": {},
   "source": [
    "# 4. Visualizações\n",
    "\n",
    "a) Faça um gráfico de barras com a quantidade de alunos por período.\n",
    "    \n",
    "b) Crie um boxplot comparando a qualidade do sono com os níveis de ansiedade.\n",
    "    \n",
    "c) Monte um heatmap de correlação (usando apenas colunas numéricas: idade, ansiedade, motivação, etc.)."
   ]
  },
  {
   "cell_type": "code",
   "execution_count": 29,
   "id": "6ddafe26-5e6b-4733-bee9-81c1d3e06100",
   "metadata": {},
   "outputs": [
    {
     "data": {
      "image/png": "[encoded data removed]",
      "text/plain": [
       "<Figure size 1000x500 with 1 Axes>"
      ]
     },
     "metadata": {},
     "output_type": "display_data"
    }
   ],
   "source": [
    "# a)\n",
    "fig, ax = plt.subplots(figsize=(10, 5))\n",
    "data_plot = df['periodo']\n",
    "ax.bar([1, 2, 3, 4, 5, 6, 7, 8, 9, 10], data_plot.value_counts(), color='orange', edgecolor='black')\n",
    "ax.set(xlabel='Período', ylabel='Frequência');"
   ]
  },
  {
   "cell_type": "code",
   "execution_count": 30,
   "id": "1874ec13-fac8-47c2-aac2-d6462c197ed9",
   "metadata": {},
   "outputs": [
    {
     "ename": "ModuleNotFoundError",
     "evalue": "No module named 'seaborn'",
     "output_type": "error",
     "traceback": [
      "\u001b[1;31m---------------------------------------------------------------------------\u001b[0m",
      "\u001b[1;31mModuleNotFoundError\u001b[0m                       Traceback (most recent call last)",
      "Cell \u001b[1;32mIn[30], line 2\u001b[0m\n\u001b[0;32m      1\u001b[0m \u001b[38;5;66;03m# b)\u001b[39;00m\n\u001b[1;32m----> 2\u001b[0m \u001b[38;5;28;01mimport\u001b[39;00m \u001b[38;5;21;01mseaborn\u001b[39;00m \u001b[38;5;28;01mas\u001b[39;00m \u001b[38;5;21;01msns\u001b[39;00m\n\u001b[0;32m      3\u001b[0m \u001b[38;5;66;03m# Criar boxplots da ansiedade (ou depressao, etc.) para cada categoria de qualidade_sono (já numérica).\u001b[39;00m\n\u001b[0;32m      4\u001b[0m \u001b[38;5;66;03m# Isso significa que teremos múltiplos boxplots de ansiedade, um para cada nível de sono.\u001b[39;00m\n\u001b[0;32m      5\u001b[0m \n\u001b[0;32m      6\u001b[0m \u001b[38;5;66;03m# Plot the data with seabon\u001b[39;00m\n\u001b[0;32m      7\u001b[0m sns\u001b[38;5;241m.\u001b[39mboxplot(x\u001b[38;5;241m=\u001b[39m\u001b[38;5;124m'\u001b[39m\u001b[38;5;124mqualidade_sono\u001b[39m\u001b[38;5;124m'\u001b[39m, y\u001b[38;5;241m=\u001b[39m\u001b[38;5;124m'\u001b[39m\u001b[38;5;124mansiedade\u001b[39m\u001b[38;5;124m'\u001b[39m, data\u001b[38;5;241m=\u001b[39mdf);\n",
      "\u001b[1;31mModuleNotFoundError\u001b[0m: No module named 'seaborn'"
     ]
    }
   ],
   "source": [
    "# b)\n",
    "import seaborn as sns\n",
    "# Criar boxplots da ansiedade (ou depressao, etc.) para cada categoria de qualidade_sono (já numérica).\n",
    "# Isso significa que teremos múltiplos boxplots de ansiedade, um para cada nível de sono.\n",
    "\n",
    "# Plot the data with seabon\n",
    "sns.boxplot(x='qualidade_sono', y='ansiedade', data=df);"
   ]
  },
  {
   "cell_type": "code",
   "execution_count": null,
   "id": "14e0a89d-4007-4ed3-b8e5-d8c80b2a9812",
   "metadata": {},
   "outputs": [],
   "source": [
    "# c)\n",
    "numerical_columns = {'idade': df['idade'],\n",
    "                    'ansiedade': df['ansiedade'],\n",
    "                    'alimentacao': df['alimentacao'],\n",
    "                    'substancias': df['uso_substancias'],\n",
    "                    'at. física': df['atividade_fisica']}\n",
    "\n",
    "df1 = pd.DataFrame(numerical_columns)\n",
    "\n",
    "# Matriz de correlação\n",
    "mat_corr = df1.corr()\n",
    "\n",
    "# Criando o heatmap\n",
    "sns.heatmap(mat_corr, annot=True, cmap='viridis', linewidths=0.5)\n",
    "plt.title('Heatmap de correlações');"
   ]
  },
  {
   "cell_type": "markdown",
   "id": "26b1e16d-86ae-41cd-a832-cf8316caebd4",
   "metadata": {},
   "source": [
    "### Vamos investigar mais a fundo correlações fortes tanto positivas quanto negativas\n",
    "\n",
    "1. Alimentação x Substância\n",
    "\n",
    "2. Alimentação x Ansiedade\n",
    "\n",
    "3. Atividade física x Ansiedade"
   ]
  },
  {
   "cell_type": "code",
   "execution_count": 102,
   "id": "8978dd03-1bed-43ea-8dda-2076277beabc",
   "metadata": {},
   "outputs": [
    {
     "data": {
      "image/png": "[encoded data removed]",
      "text/plain": [
       "<Figure size 1000x1600 with 3 Axes>"
      ]
     },
     "metadata": {},
     "output_type": "display_data"
    }
   ],
   "source": [
    "# Creating the figure\n",
    "fig, (a, b, c) = plt.subplots(3, 1, figsize=(10, 16))\n",
    "\n",
    "# Make the data\n",
    "ax = df['alimentacao']\n",
    "ay = df['ansiedade']\n",
    "\n",
    "bx = df['atividade_fisica']\n",
    "by = df['ansiedade']\n",
    "\n",
    "cx = df['alimentacao']\n",
    "cy = df['uso_substancias']\n",
    "\n",
    "# Plot the data\n",
    "a.scatter(ax, ay)\n",
    "b.scatter(bx, by)\n",
    "c.scatter(cx, cy)\n",
    "\n",
    "# Setting titles and labels\n",
    "a.set(xlabel='Alimentação', ylabel='Ansiedade')\n",
    "b.set(xlabel='At. física', ylabel='Ansiedade')\n",
    "c.set(xlabel='Alimentação', ylabel='Uso substâncias');"
   ]
  },
  {
   "cell_type": "markdown",
   "id": "eaa521a6-6990-45f0-a600-157086ecc804",
   "metadata": {},
   "source": [
    "### Talvez pela pouca quantidade de dados não foi possível observar uma correlação(linear) forte entre as variáveis supracitadas como foi mostrado no heatmap."
   ]
  },
  {
   "cell_type": "markdown",
   "id": "d3edde87-2376-4fa4-bd16-fa142f0125cf",
   "metadata": {},
   "source": [
    "# 5. Insights e hipóteses\n",
    "\n",
    "a) Qual comportamento parece mais associado à falta de motivação: má qualidade do sono, uso de substâncias ou ausência de rede de apoio?\n",
    "\n",
    "b) Qual grupo apresenta maior risco: quem mora sozinho ou quem está em moradia estudantil?"
   ]
  },
  {
   "cell_type": "code",
   "execution_count": 103,
   "id": "06f33434-4149-40d7-a172-010de8b1f3f8",
   "metadata": {},
   "outputs": [
    {
     "name": "stdout",
     "output_type": "stream",
     "text": [
      "motivacao_estudos  1  2  3  4\n",
      "qualidade_sono               \n",
      "0                  2  0  0  0\n",
      "1                  1  1  0  0\n",
      "2                  0  1  2  0\n",
      "3                  0  1  1  0\n",
      "4                  0  0  0  1\n",
      "-=--=--=--=--=--=--=--=--=--=-\n",
      "motivacao_estudos  1  2  3  4\n",
      "uso_substancias              \n",
      "0                  0  1  0  1\n",
      "1                  0  0  2  0\n",
      "2                  0  1  1  0\n",
      "3                  1  1  0  0\n",
      "4                  2  0  0  0\n",
      "-=--=--=--=--=--=--=--=--=--=-\n",
      "motivacao_estudos  1  2  3  4\n",
      "apoio_familiar               \n",
      "Moderado           1  1  1  0\n",
      "Muito              0  0  1  0\n",
      "Nenhum             1  1  0  0\n",
      "Pouco              1  1  1  0\n",
      "Total              0  0  0  1\n"
     ]
    }
   ],
   "source": [
    "# a)\n",
    "moti_sono = pd.crosstab(df['qualidade_sono'], df['motivacao_estudos'])\n",
    "moti_addiction = pd.crosstab(df['uso_substancias'], df['motivacao_estudos'])\n",
    "moti_apoio = pd.crosstab(df['apoio_familiar'], df['motivacao_estudos'])\n",
    "\n",
    "print(moti_sono)\n",
    "print('-=-'*10)\n",
    "print(moti_addiction)\n",
    "print('-=-'*10)\n",
    "print(moti_apoio)"
   ]
  },
  {
   "cell_type": "markdown",
   "id": "6e384a22-7d0e-49a7-81e8-6662168f8d76",
   "metadata": {},
   "source": [
    "### O fator que parece mais impactar a falta de motivação é a falta de uma rede de apoio"
   ]
  },
  {
   "cell_type": "code",
   "execution_count": 104,
   "id": "5577be13-caa0-4016-bb20-55208a58184b",
   "metadata": {},
   "outputs": [
    {
     "data": {
      "text/html": [
       "<div>\n",
       "<style scoped>\n",
       "    .dataframe tbody tr th:only-of-type {\n",
       "        vertical-align: middle;\n",
       "    }\n",
       "\n",
       "    .dataframe tbody tr th {\n",
       "        vertical-align: top;\n",
       "    }\n",
       "\n",
       "    .dataframe thead th {\n",
       "        text-align: right;\n",
       "    }\n",
       "</style>\n",
       "<table border=\"1\" class=\"dataframe\">\n",
       "  <thead>\n",
       "    <tr style=\"text-align: right;\">\n",
       "      <th>pensamentos_suicidas</th>\n",
       "      <th>0</th>\n",
       "      <th>1</th>\n",
       "    </tr>\n",
       "    <tr>\n",
       "      <th>moradia</th>\n",
       "      <th></th>\n",
       "      <th></th>\n",
       "    </tr>\n",
       "  </thead>\n",
       "  <tbody>\n",
       "    <tr>\n",
       "      <th>Moradia estudantil</th>\n",
       "      <td>0</td>\n",
       "      <td>2</td>\n",
       "    </tr>\n",
       "    <tr>\n",
       "      <th>Sozinho(a)</th>\n",
       "      <td>2</td>\n",
       "      <td>0</td>\n",
       "    </tr>\n",
       "  </tbody>\n",
       "</table>\n",
       "</div>"
      ],
      "text/plain": [
       "pensamentos_suicidas  0  1\n",
       "moradia                   \n",
       "Moradia estudantil    0  2\n",
       "Sozinho(a)            2  0"
      ]
     },
     "execution_count": 104,
     "metadata": {},
     "output_type": "execute_result"
    }
   ],
   "source": [
    "# b)\n",
    "# Quem mora só ou em moradia estudantil\n",
    "filtro_moradia = df[(df['moradia'] == 'Sozinho(a)') | (df['moradia'] == 'Moradia estudantil')]\n",
    "risco_moradia = pd.crosstab(filtro_moradia['moradia'], df['pensamentos_suicidas'])\n",
    "risco_moradia"
   ]
  },
  {
   "cell_type": "markdown",
   "id": "a7d2ae17-8889-4e93-b85c-c3f101b981c3",
   "metadata": {},
   "source": [
    "### O grupo que apresentar maior risco são os estudantes que moram em _moradia estudantil_."
   ]
  }
 ],
 "metadata": {
  "kernelspec": {
   "display_name": "base",
   "language": "python",
   "name": "python3"
  },
  "language_info": {
   "codemirror_mode": {
    "name": "ipython",
    "version": 3
   },
   "file_extension": ".py",
   "mimetype": "text/x-python",
   "name": "python",
   "nbconvert_exporter": "python",
   "pygments_lexer": "ipython3",
   "version": "3.12.7"
  }
 },
 "nbformat": 4,
 "nbformat_minor": 5
}
